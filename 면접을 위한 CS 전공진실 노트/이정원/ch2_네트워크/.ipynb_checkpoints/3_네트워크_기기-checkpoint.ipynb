{
 "cells": [
  {
   "cell_type": "markdown",
   "metadata": {},
   "source": [
    "# 2.3 네트워크 기기"
   ]
  },
  {
   "cell_type": "markdown",
   "metadata": {},
   "source": [
    "### 1. 애플리케이션 계층을 처리하는 기기"
   ]
  },
  {
   "cell_type": "markdown",
   "metadata": {},
   "source": [
    "- L7 스위치:\n",
    "        로드밸런서라고도 함\n",
    "        서버의 부하를 분산하는 기기\n",
    "        URL, 서버, 캐시, 쿠키등을 기반으로 트래픽을 분산\n",
    "        필터링 기능 또한 갖고있음"
   ]
  },
  {
   "cell_type": "markdown",
   "metadata": {},
   "source": [
    "- L7 스위치와 L4 스위치의 차이\n",
    "        L4 스위치 또한 로드밸런서인데 L4 스위치는 전송 계층을 처리하는 기기로 IP와 포트를 기반으로 트래픽을 분산\n",
    "        L7 스위치는 IP, 포트 외에도 URL, HTTP헤더, 쿠키 등을 기반으로 트래픽을 분산"
   ]
  },
  {
   "cell_type": "markdown",
   "metadata": {},
   "source": [
    "- 헬스 체크\n",
    "        전송 주기와 재전송 횟수 등을 설정한 이후 반복적으로 서버에 요청을 보내는 것"
   ]
  },
  {
   "cell_type": "markdown",
   "metadata": {},
   "source": [
    "- 로드밸런서\n",
    "        서비스를 안정적으로 운용할 수 있는 서버 이중화를 가능하게 함"
   ]
  },
  {
   "cell_type": "markdown",
   "metadata": {},
   "source": [
    "### 2. 인터넷 계층을 처리하는 기기"
   ]
  },
  {
   "cell_type": "markdown",
   "metadata": {},
   "source": [
    "- L3 스위치:\n",
    "        라우터와 L3 스위치가 존재"
   ]
  },
  {
   "cell_type": "markdown",
   "metadata": {},
   "source": [
    "- 라우터:\n",
    "        다른 네트워크에 존재하는 장치끼리 데이터를 송수신 할 때 사용\n",
    "        최소 경로로 패킷을 포워딩해줌"
   ]
  },
  {
   "cell_type": "markdown",
   "metadata": {},
   "source": [
    "- L3 스위치:\n",
    "        L2 스위치의 기능과 라우팅 기능을 갖춘 장비\n",
    "        L3 스위치를 라우터라고 해도 됨\n",
    "        하드웨어 기반의 라우팅만을 담당하는 것이 L3 스위치\n",
    "        소프트웨어 또는 하드웨어 기반의 라우팅을 담당하는 것이 라우터 "
   ]
  },
  {
   "cell_type": "markdown",
   "metadata": {},
   "source": [
    "### 3. 데이터 링크 계층을 처리하는 기기"
   ]
  },
  {
   "cell_type": "markdown",
   "metadata": {},
   "source": [
    "- L2 스위치:\n",
    "        단순히 패킷의 MAC주소를 읽어 스위칭 역할만 함\n",
    "        만약 MAC주소 테이블에 목적지가 존재하지 않으면 브로드캐스팅함"
   ]
  },
  {
   "cell_type": "markdown",
   "metadata": {},
   "source": [
    "- 브리지:\n",
    "        포트와 포트 사이의 다리 역할\n",
    "        통신망 범위 확장"
   ]
  },
  {
   "cell_type": "markdown",
   "metadata": {},
   "source": [
    "### 4. 물리 계층을 처리하는 기기"
   ]
  },
  {
   "cell_type": "markdown",
   "metadata": {},
   "source": [
    "- NIC:\n",
    "        LAN카드라고 하는 Network Interface Card\n",
    "        컴퓨터 네트워크를 구성하는 데 사용\n",
    "        고유 식별번호인 MAC주소가 존재"
   ]
  },
  {
   "cell_type": "markdown",
   "metadata": {},
   "source": [
    "- 리피터:\n",
    "        신호를 증폭하여 전달하는 장치"
   ]
  },
  {
   "cell_type": "markdown",
   "metadata": {},
   "source": [
    "- AP:\n",
    "        패킷을 복사하는 기기"
   ]
  }
 ],
 "metadata": {
  "kernelspec": {
   "display_name": "Python 3",
   "language": "python",
   "name": "python3"
  },
  "language_info": {
   "codemirror_mode": {
    "name": "ipython",
    "version": 3
   },
   "file_extension": ".py",
   "mimetype": "text/x-python",
   "name": "python",
   "nbconvert_exporter": "python",
   "pygments_lexer": "ipython3",
   "version": "3.8.5"
  }
 },
 "nbformat": 4,
 "nbformat_minor": 4
}
