{
 "cells": [
  {
   "cell_type": "markdown",
   "metadata": {},
   "source": [
    "# 2.5 HTTP"
   ]
  },
  {
   "cell_type": "markdown",
   "metadata": {},
   "source": [
    "### 1. HTTP/1.0"
   ]
  },
  {
   "cell_type": "markdown",
   "metadata": {},
   "source": [
    "- 한 연결당 하나의 요청을 처리\n",
    "        RTT 증가를 불러옴\n",
    "        RTT란 패킷이 목적지에 도달하고 나서 다시 출발지로 돌아오기까지 걸리는 시간 -> 패킷 왕복 시간"
   ]
  },
  {
   "cell_type": "markdown",
   "metadata": {},
   "source": [
    "![title](img/HTTP1.jpg)"
   ]
  },
  {
   "cell_type": "markdown",
   "metadata": {},
   "source": [
    "- RTT 증가를 해결하기 위한 방법\n",
    "        1. 이미지 스플리팅: 많은 이미지가 합쳐 있는 하나의 이미지를 다운받아서 표기\n",
    "        2. 코드 압축: 개행 문자, 빈칸등을 없앰\n",
    "        3. 이미지 Base64 인코딩: 이미지 파일을 64진법의 문자열로 인코딩, 이미지 파일을 따로 HTTP 요청을 안해도 되지만 데이터의 \n",
    "        크기가 커지는 단점이 존재"
   ]
  },
  {
   "cell_type": "markdown",
   "metadata": {},
   "source": [
    "### 2. HTTP/1.1"
   ]
  },
  {
   "cell_type": "markdown",
   "metadata": {},
   "source": [
    "- 요청할 때마다 매번 TCP 연결을 하지 않는 keep-alive옵션이 표준화가 됨\n",
    "![title](img/HTTP1.1.jpg)"
   ]
  },
  {
   "cell_type": "markdown",
   "metadata": {},
   "source": [
    "- 문제점으로 HOL Blocking과 무거운 헤더 구조가 존재\n",
    "        HOL Blocking은 같은 큐에 있는 패킷이 첫 번째 패킷에 의해 지연될 때 발생하는 성능 저하 현상\n",
    "        HTTP/1.1 헤더에는 쿠키같은 많은 메타데이터가 들어 있고 압축이 되지 않음"
   ]
  },
  {
   "cell_type": "markdown",
   "metadata": {},
   "source": [
    "### 3. HTTP/2"
   ]
  },
  {
   "cell_type": "markdown",
   "metadata": {},
   "source": [
    "- 지연 시간을 줄이고 응답 시간을 빠르게 하는 멀티 플렉싱, 헤더 압축, 서버 푸시, 요청의 우선순위 처리를 지원"
   ]
  },
  {
   "cell_type": "markdown",
   "metadata": {},
   "source": [
    "- 멀티 플렉싱:\n",
    "        여러 개의 스트림을 사용하여 송수신\n",
    "        하나의 스트림에 문제가 생겨도 다른 스트림은 정상 수행 가능"
   ]
  },
  {
   "cell_type": "markdown",
   "metadata": {},
   "source": [
    "- 헤더 압축:\n",
    "        허프만 코딩 압축 알고리즘을 사용\n",
    "        허프만 코딩은 빈도가 높은 정보는 적은 비트 수를 사용하여 표현하고 빈도가 적은 정보는 높은 비트를 수를 사용하여 표현해서\n",
    "        전체 데이터의 표현에 필요한 비트양을 줄이는 원리"
   ]
  },
  {
   "cell_type": "markdown",
   "metadata": {},
   "source": [
    "- 서버 푸시:\n",
    "        클라이언트의 요청 없이 서버가 리소스를 푸시할 수 있음\n",
    "        ex) html에 필요한 css나 js파일을 요청없이 푸시"
   ]
  },
  {
   "cell_type": "markdown",
   "metadata": {},
   "source": [
    "### 4. HTTPS"
   ]
  },
  {
   "cell_type": "markdown",
   "metadata": {},
   "source": [
    "- HTTP/2는 HTTPS위에서 동작\n",
    "        HTTPS는 애플리케이션 계층과 전송 계층 사이에 SSL/TLS 계층을 넣은 HTTP를 말함"
   ]
  },
  {
   "cell_type": "markdown",
   "metadata": {},
   "source": [
    "- SSL/TLS:\n",
    "        전송 계층에서 보안을 제공하는 프로토콜\n",
    "        보안 세션을 기반으로 데이터를 암호화함\n",
    "        인증 메커니즘, 키 교환 암호화 알고리즘, 해싱 알고리즘이 사용됨"
   ]
  },
  {
   "cell_type": "markdown",
   "metadata": {},
   "source": [
    "- 인증 메커니즘:\n",
    "        CA에서 발급한 인증서를 기반으로 이루어짐"
   ]
  },
  {
   "cell_type": "markdown",
   "metadata": {},
   "source": [
    "- 암호화 알고리즘:\n",
    "        디피-헬만 알고리즘을 기반으로 만들어진 ECDHE or DHE 사용"
   ]
  },
  {
   "cell_type": "markdown",
   "metadata": {},
   "source": [
    "- 디피-헬만(Diffie-Hellman) 알고리즘:\n",
    "        y=g^x mod p\n",
    "        g와 x와 p를 안다면 y를 쉽게 구하지만 y와 g와 p만 안다면 x를 구하기 어려운 원리를 기반으로 한 알고리즘"
   ]
  },
  {
   "cell_type": "markdown",
   "metadata": {},
   "source": [
    "- 해싱 알고리즘:\n",
    "        해시 함수를 사용하여 데이터를 본래 데이터로 추정하기 힘든 데이터로 만들어줌\n",
    "        SSL/TLS는 SHA-256과 SHA-384를 사용"
   ]
  },
  {
   "cell_type": "markdown",
   "metadata": {},
   "source": [
    "- SHA-256:\n",
    "        해시 함수의 결과값이 256비트인 알고리즘"
   ]
  },
  {
   "cell_type": "markdown",
   "metadata": {},
   "source": [
    "- HTTPS는 SEO(Search Engine Optimization)에도 도움이 됨\n",
    "        구글은 HTTPS서비스를 하는 사이트가 SEO순위가 높을 것이라 밝힘"
   ]
  },
  {
   "cell_type": "markdown",
   "metadata": {},
   "source": [
    "- HTTPS 구축 방법:\n",
    "        1. 직접 CA에서 구매한 인증키를 기반으로 HTTPS 서비스 구축\n",
    "        2. 서버 앞에 HTTPS를 제공하는 로드밸런서를 사용\n",
    "        3. 또는 서버 앞에 HTTPS를 제공하는 CDN 사용"
   ]
  },
  {
   "cell_type": "markdown",
   "metadata": {},
   "source": [
    "- CDN(Content Delivery Network):\n",
    "        지리적으로 분산된 서버들을 연결하는 네트워크\n",
    "        웹 성능및 속도를 향상 시켜줌"
   ]
  },
  {
   "cell_type": "markdown",
   "metadata": {},
   "source": [
    "### 5. HTTP/3"
   ]
  },
  {
   "cell_type": "markdown",
   "metadata": {},
   "source": [
    "- TCP 위에서 돌아가는 HTTP/2와는 달리 UDP기반의 QUIC이라는 계층 위에서 돌아감"
   ]
  },
  {
   "cell_type": "markdown",
   "metadata": {},
   "source": [
    "- UDP를 사용하면서 통신을 시작할 때 3-way handshake과정을 거치지 않아도 됨\n",
    "        초기 연결 설정시 지연 시간이 감소됨"
   ]
  },
  {
   "cell_type": "markdown",
   "metadata": {},
   "source": [
    "![title](img/HTTP3.jpg)"
   ]
  }
 ],
 "metadata": {
  "kernelspec": {
   "display_name": "Python 3",
   "language": "python",
   "name": "python3"
  },
  "language_info": {
   "codemirror_mode": {
    "name": "ipython",
    "version": 3
   },
   "file_extension": ".py",
   "mimetype": "text/x-python",
   "name": "python",
   "nbconvert_exporter": "python",
   "pygments_lexer": "ipython3",
   "version": "3.8.5"
  }
 },
 "nbformat": 4,
 "nbformat_minor": 4
}
