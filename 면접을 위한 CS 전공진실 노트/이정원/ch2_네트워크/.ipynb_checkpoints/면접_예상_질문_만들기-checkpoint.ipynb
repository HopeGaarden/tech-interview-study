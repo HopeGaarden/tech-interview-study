{
 "cells": [
  {
   "cell_type": "markdown",
   "metadata": {},
   "source": [
    "# 1. ARP란 무엇이고 ARP을 수행하는 과정을 설명해주세요"
   ]
  },
  {
   "cell_type": "markdown",
   "metadata": {},
   "source": [
    "- ARP란 IP주소로부터 MAC주소를 구해오는 프로토콜입니다.\n",
    "- 1. IP주소로 ARP Request 브로드캐스트를 보냅니다.\n",
    "- 2. IP주소에 해당하는 PC나 장치는 송신자에게 ARP Reply 유니캐스트로 MAC주소를 응답합니다."
   ]
  },
  {
   "cell_type": "markdown",
   "metadata": {},
   "source": [
    "# 2. 게이트웨이를 설명해주세요"
   ]
  },
  {
   "cell_type": "markdown",
   "metadata": {},
   "source": [
    "- 게이트웨이는 서로 다른 프로토콜, 통신망을 사용하는 네트워크 간의 통신을 가능하게 해주는 컴퓨터나 소프트웨어를 말합니다.\n",
    "- 서로 다른 네트워크 상의 통신 프로토콜을 변환해주는 역할을 하기도 합니다."
   ]
  },
  {
   "cell_type": "markdown",
   "metadata": {},
   "source": [
    "# 3. NAT에 대해 설명해주세요"
   ]
  },
  {
   "cell_type": "markdown",
   "metadata": {},
   "source": [
    "- 패킷의 IP주소를 다른 주소로 매핑시켜주는 방법입니다.\n",
    "- 사설IP와 공인IP를 서로 변환해주는 라우터를 NAT장치라고 합니다. "
   ]
  },
  {
   "cell_type": "markdown",
   "metadata": {},
   "source": [
    "# 4. HTTPS를 구축하는 방법은 무엇이 있나요"
   ]
  },
  {
   "cell_type": "markdown",
   "metadata": {},
   "source": [
    "- 1. CA인증서를 받아와 직접 HTTPS서비스를 구축합니다.\n",
    "- 2. 서버 앞에 HTTPS를 제공하는 로드밸런서를 사용합니다.\n",
    "- 3. 또는 서버 앞에 CDN을 둬서 HTTPS를 구축합니다."
   ]
  },
  {
   "cell_type": "markdown",
   "metadata": {},
   "source": [
    "# 5. HTTP/3의 특징은 무엇이 있나요"
   ]
  },
  {
   "cell_type": "markdown",
   "metadata": {},
   "source": [
    "- TCP위에서 돌아가는 HTTP/2와 달리 QUIC라는 계층위에서 UDP기반으로 돌아갑니다.\n",
    "- UDP를 사용하면서 통신을 시작할 때 3-way handshake과정을 거치지 않아도 돼 초기 연결 설정시 지연 시간이 감소하는 장점이 있습니다."
   ]
  }
 ],
 "metadata": {
  "kernelspec": {
   "display_name": "Python 3",
   "language": "python",
   "name": "python3"
  },
  "language_info": {
   "codemirror_mode": {
    "name": "ipython",
    "version": 3
   },
   "file_extension": ".py",
   "mimetype": "text/x-python",
   "name": "python",
   "nbconvert_exporter": "python",
   "pygments_lexer": "ipython3",
   "version": "3.8.5"
  }
 },
 "nbformat": 4,
 "nbformat_minor": 4
}
