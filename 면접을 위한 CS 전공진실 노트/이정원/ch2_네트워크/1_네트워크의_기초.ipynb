{
 "cells": [
  {
   "cell_type": "code",
   "execution_count": 3,
   "metadata": {},
   "outputs": [],
   "source": [
    "from IPython.display import Image"
   ]
  },
  {
   "cell_type": "markdown",
   "metadata": {},
   "source": [
    "# 2.1 네트워크의 기초"
   ]
  },
  {
   "cell_type": "markdown",
   "metadata": {},
   "source": [
    "- 네트워크:\n",
    "       노드(node)와 링크(link)가 서로 연결되어 리소스를 공유하는 집합을 의미\n",
    "       노드(node): 서버, 라우터, 스위치 등 네트워크 장치\n",
    "       링크(link): 유선 또는 무선"
   ]
  },
  {
   "cell_type": "markdown",
   "metadata": {},
   "source": [
    "### 1. 처리량과 지연 시간"
   ]
  },
  {
   "cell_type": "markdown",
   "metadata": {},
   "source": [
    "- (1) 처리량:\n",
    "        링크내에서 성공적으로 전달된 데이터의 양 얼만큼의 트래픽을 처리했는지\n",
    "        단위로는 bps(bits per second)사용"
   ]
  },
  {
   "cell_type": "markdown",
   "metadata": {},
   "source": [
    "- (2) 대역폭:\n",
    "        주어진 시간 동안 네트워크 연결을 통해 흐를 수 있는 최대 비트 수"
   ]
  },
  {
   "cell_type": "markdown",
   "metadata": {},
   "source": [
    "- (3) 지연 시간:\n",
    "        요청이 처리되는 시간"
   ]
  },
  {
   "cell_type": "markdown",
   "metadata": {},
   "source": [
    "### 2. 네트워크 토폴로지와 병목 현상 "
   ]
  },
  {
   "cell_type": "markdown",
   "metadata": {},
   "source": [
    "- 네트워크 토폴로지:\n",
    "        노드와 링크의 배치 방식, 연결 형태"
   ]
  },
  {
   "cell_type": "markdown",
   "metadata": {},
   "source": [
    "- (1) 트리 토폴로지"
   ]
  },
  {
   "cell_type": "markdown",
   "metadata": {},
   "source": [
    "![title](img/tree.jpg)"
   ]
  },
  {
   "cell_type": "markdown",
   "metadata": {},
   "source": [
    "- (2) 버스 토폴로지"
   ]
  },
  {
   "cell_type": "markdown",
   "metadata": {},
   "source": [
    "![title](img/bus.jpg)\n",
    "- !버스 토폴로지는 스푸핑이 가능하다는 문제점이 존재"
   ]
  },
  {
   "cell_type": "markdown",
   "metadata": {},
   "source": [
    "- 스푸핑:\n",
    "        스위칭 기능을 마비시켜 송신부의 패킷을 특정 노드에 오도록 처리하는 것\n",
    "![title](img/spuping.jpg)"
   ]
  },
  {
   "cell_type": "markdown",
   "metadata": {},
   "source": [
    "- (3) 스타 토폴로지\n",
    "![title](img/star.jpg)"
   ]
  },
  {
   "cell_type": "markdown",
   "metadata": {},
   "source": [
    "- (4) 링형 토폴로지\n",
    "![title](img/ring.jpg)"
   ]
  },
  {
   "cell_type": "markdown",
   "metadata": {},
   "source": [
    "- (5) 메시 토폴로지\n",
    "![title](img/mesh.jpg)"
   ]
  },
  {
   "cell_type": "markdown",
   "metadata": {},
   "source": [
    "- 병목 현상\n",
    "        전체 시스템의 성능이나 용량이 하나의 구성 요소로 인해 제한을 받는 현상"
   ]
  },
  {
   "cell_type": "markdown",
   "metadata": {},
   "source": [
    "### 3.네트워크 분류 "
   ]
  },
  {
   "cell_type": "markdown",
   "metadata": {},
   "source": [
    "- (1)LAN:\n",
    "        근거리 통신망 (Local Area Network)"
   ]
  },
  {
   "cell_type": "markdown",
   "metadata": {},
   "source": [
    "- (2)MAN:\n",
    "        대도시 지역 네트워크(Metropolitan Area Network)"
   ]
  },
  {
   "cell_type": "markdown",
   "metadata": {},
   "source": [
    "- (3)WAN:\n",
    "        광역 네트워크(Wide Area Network)"
   ]
  },
  {
   "cell_type": "markdown",
   "metadata": {},
   "source": [
    "### 4. 네트워크 성능 분석 명령어"
   ]
  },
  {
   "cell_type": "markdown",
   "metadata": {},
   "source": [
    "- (1) ping\n",
    "        네트워크 상태를 확인하기위해 대상 노드를 향해 패킷을 전송하는 명령어\n",
    "        ex) ping www.google.com -n 12\n",
    "#### !TCP/IP 프로토콜 중에 ICMP 프로토콜을 통해 동작\n",
    "        "
   ]
  },
  {
   "cell_type": "markdown",
   "metadata": {},
   "source": [
    "- (2) netstat\n",
    "        접속되어 있는 서비스들의 네트워크 상태를 표시\n",
    "        주로 서비스의 포트가 열려 있는지 확인할 때 사용"
   ]
  },
  {
   "cell_type": "markdown",
   "metadata": {},
   "source": [
    "- (3) nslookup\n",
    "        DNS 관련된 내용\n",
    "        도메인에 매핑된 IP를 확인할 때 사용"
   ]
  },
  {
   "cell_type": "markdown",
   "metadata": {},
   "source": [
    "- (4) tracert\n",
    "        네트워크 경로를 확인\n",
    "        어느구간에서 응답 시간이 느려지는지 확인\n",
    "#### !리눅스에서는 traceroute"
   ]
  }
 ],
 "metadata": {
  "kernelspec": {
   "display_name": "Python 3",
   "language": "python",
   "name": "python3"
  },
  "language_info": {
   "codemirror_mode": {
    "name": "ipython",
    "version": 3
   },
   "file_extension": ".py",
   "mimetype": "text/x-python",
   "name": "python",
   "nbconvert_exporter": "python",
   "pygments_lexer": "ipython3",
   "version": "3.8.5"
  }
 },
 "nbformat": 4,
 "nbformat_minor": 4
}
