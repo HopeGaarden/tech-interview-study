{
 "cells": [
  {
   "cell_type": "markdown",
   "metadata": {},
   "source": [
    "# 2.2 TCP/IP 4계층 모델"
   ]
  },
  {
   "cell_type": "markdown",
   "metadata": {},
   "source": [
    "### 1. 계층구조"
   ]
  },
  {
   "cell_type": "markdown",
   "metadata": {},
   "source": [
    "![title](img/계층.jpg)"
   ]
  },
  {
   "cell_type": "markdown",
   "metadata": {},
   "source": [
    "- 애플리케이션 계층\n",
    "        FTP, HTTP, SSH, SMTP, DNS 등 실제 응용프로그램이 사용되는 프로토콜 계층"
   ]
  },
  {
   "cell_type": "markdown",
   "metadata": {},
   "source": [
    "- 전송 계층\n",
    "        송신자와 수신자를 연결하는 통신 서비스를 제공\n",
    "        TCP와 UDP"
   ]
  },
  {
   "cell_type": "markdown",
   "metadata": {},
   "source": [
    "- (1) TCP는 연결지향 프로토콜을 사용하고 신뢰성을 구축하여 순서를 보장하는 가상회선 패킷 교환 방식 사용"
   ]
  },
  {
   "cell_type": "markdown",
   "metadata": {},
   "source": [
    "- (2) UDP는 순서를 보장하지 않고 수신여부를 확인하지 않으며 단순히 데이터만 주는 데이터그램 패킷 교환 방식 사용"
   ]
  },
  {
   "cell_type": "markdown",
   "metadata": {},
   "source": [
    "- (3) 3-way handshake"
   ]
  },
  {
   "cell_type": "markdown",
   "metadata": {},
   "source": [
    "![title](img/3way.jpg)"
   ]
  },
  {
   "cell_type": "markdown",
   "metadata": {},
   "source": [
    "- (4) 4-way handshake\n",
    "![title](img/4way.jpg)"
   ]
  },
  {
   "cell_type": "markdown",
   "metadata": {},
   "source": [
    "- TIME_WAIT 존재 이유\n",
    "        1. 지연 패킷이 발생할 경우\n",
    "        2. 두 장치가 연결이 닫혔는지 확인하기 위해 서버의 CLOSED를 기다리는 경우"
   ]
  },
  {
   "cell_type": "markdown",
   "metadata": {},
   "source": [
    "- 인터넷 계층\n",
    "        패킷을 IP주소로 지정된 목적지로 송신하기 위한 계층\n",
    "        ARP, IP, ICMP 등이 존재하며 비연결형적인 특징을 가짐"
   ]
  },
  {
   "cell_type": "markdown",
   "metadata": {},
   "source": [
    "- 링크 계층\n",
    "        실질적으로 데이터를 전달하는 계층\n",
    "        물리 계층과 데이터 링크 계층으로 나누기도 함\n",
    "        물리 계층은 무선LAN과 유선LAN처럼 데이터를 보내는 계층을 말함\n",
    "        데이터 링크 계층은 이더넷 프레임을 통해 에러 확인, 흐름 제어, 접근 제어를 담당"
   ]
  },
  {
   "cell_type": "markdown",
   "metadata": {},
   "source": [
    "- (1) 유선LAN\n",
    "        IEEE802.3이라는 프로토콜을 따르며 전 이중화 통신을 사용함\n",
    "        전 이중화 통신은 양쪽 동시에 송수신할 수 있는 방식"
   ]
  },
  {
   "cell_type": "markdown",
   "metadata": {},
   "source": [
    "- (2) 무선 LAN\n",
    "        IEEE802.11이라는 프로토콜을 따르며 반 이중화 통신을 사용함\n",
    "        반 이중화 통신은 양쪽 서로 통신은 가능하지만 한 번에 한 방향만 통신 가능함"
   ]
  },
  {
   "cell_type": "markdown",
   "metadata": {},
   "source": [
    "- 와이파이:\n",
    "        전자기기들이 무선 LAN신호에 연결할 수 있게 하는 기술\n",
    "        무선 접속 장치(AP)가 필요함 -> 공유기"
   ]
  },
  {
   "cell_type": "markdown",
   "metadata": {},
   "source": [
    "- BSS:\n",
    "        기본 서비스 집함을 의미"
   ]
  },
  {
   "cell_type": "markdown",
   "metadata": {},
   "source": [
    "- ESS:\n",
    "        하나 이상의 연결된 BSS그룹\n",
    "![title](img/BSS_ESS.jpg)"
   ]
  },
  {
   "cell_type": "markdown",
   "metadata": {},
   "source": [
    "- 계층 간 데이터 송수신 과정\n",
    "        요청 값들은 캡슐화 과정을 거쳐 전달되고, 수신하는 장치는 비캡슐화 가정을 거쳐 데이터가 수신됨\n",
    "        캡슐화 과정은 상위 계층의 데이터에 하위 계층의 헤더를 삽입하는 과정을 말함\n",
    "        비캡슐화 과정은 하위 계층의 데이터에서 헤더를 제거하는 과정을 말함"
   ]
  },
  {
   "cell_type": "markdown",
   "metadata": {},
   "source": [
    "### 2. PDU"
   ]
  },
  {
   "cell_type": "markdown",
   "metadata": {},
   "source": [
    "- PDU:\n",
    "        한 계층에서 다른 계층으로 데이터가 전달될 때의 한 덩어리의 단위"
   ]
  },
  {
   "cell_type": "markdown",
   "metadata": {},
   "source": [
    "- curl 명령어로 PDU 테스팅 가능"
   ]
  },
  {
   "cell_type": "markdown",
   "metadata": {},
   "source": [
    "- 참고로 PDU중 아래 계층인 비트로 송수신하는 것이 가장 빠르고 효율적이지만 애플리케이션 계층은 비트가 아닌 문자열로 송수신을 함 그 이유는 헤더에 다른 값들을 넣는 확장이 쉽기 때문"
   ]
  }
 ],
 "metadata": {
  "kernelspec": {
   "display_name": "Python 3",
   "language": "python",
   "name": "python3"
  },
  "language_info": {
   "codemirror_mode": {
    "name": "ipython",
    "version": 3
   },
   "file_extension": ".py",
   "mimetype": "text/x-python",
   "name": "python",
   "nbconvert_exporter": "python",
   "pygments_lexer": "ipython3",
   "version": "3.8.5"
  }
 },
 "nbformat": 4,
 "nbformat_minor": 4
}
