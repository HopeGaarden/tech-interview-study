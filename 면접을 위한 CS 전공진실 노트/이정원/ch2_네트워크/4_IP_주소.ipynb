{
 "cells": [
  {
   "cell_type": "markdown",
   "metadata": {},
   "source": [
    "# 2.4 IP 주소"
   ]
  },
  {
   "cell_type": "markdown",
   "metadata": {},
   "source": [
    "### 1. ARP"
   ]
  },
  {
   "cell_type": "markdown",
   "metadata": {},
   "source": [
    "- ARP:\n",
    "        IP주소로 부터 MAC주소를 구하는 프로토콜"
   ]
  },
  {
   "cell_type": "markdown",
   "metadata": {},
   "source": [
    "- RARP:\n",
    "        MAC주소로부터 IP주소를 구하는 프로토콜"
   ]
  },
  {
   "cell_type": "markdown",
   "metadata": {},
   "source": [
    "- ARP 과정:\n",
    "![title](img/ARP.jpg)\n",
    "A가 브로드 캐스트로 IP주소를 보내고 해당 주소에 맞는 장치 B가 유니캐스트로 A에게 MAC주소를 응답함"
   ]
  },
  {
   "cell_type": "markdown",
   "metadata": {},
   "source": [
    "### 2. 홉바이홉 통신"
   ]
  },
  {
   "cell_type": "markdown",
   "metadata": {},
   "source": [
    "- 라우팅 테이블의 IP를 통해 목적지까지 계속해서 이동하는 라우팅 과정을 말함"
   ]
  },
  {
   "cell_type": "markdown",
   "metadata": {},
   "source": [
    "- 라우팅 테이블:\n",
    "        목적지 정보와 목적지로 가기 위한 방법이 들어 있는 리스트\n",
    "        게이트웨이와 목적지로 가기 위한 다음 라우터의 정보가 존재\n",
    "        netstat -r 명령어로 확인 가능"
   ]
  },
  {
   "cell_type": "markdown",
   "metadata": {},
   "source": [
    "- 게이트웨이:\n",
    "        서로 다른 통신망이나 프로토콜을 사용하는 네트워크 간의 통신을 가능하게 해주는 컴퓨터나 소프트웨어를 말함"
   ]
  },
  {
   "cell_type": "markdown",
   "metadata": {},
   "source": [
    "### 3. IP 주소 체계"
   ]
  },
  {
   "cell_type": "markdown",
   "metadata": {},
   "source": [
    "- IPv4는 32비트를 8비트 단위로 점을 찍어 표기"
   ]
  },
  {
   "cell_type": "markdown",
   "metadata": {},
   "source": [
    "- IPv6는 64비트를 16비트 단위로 점을 찍어 표기"
   ]
  },
  {
   "cell_type": "markdown",
   "metadata": {},
   "source": [
    "- 클래스 기반 할당 방식\n",
    "![title](img/classful.jpg)\n",
    "        클래스 A, B, C는 일대일 통신에 사용, D는 멀티캐스트, E는 예비용\n",
    "        네트워크의 첫 번째 주소는 네트워크 주소로 사용되고 마지막 주소를 브로드캐스트용 주소로 사용\n",
    "        클래스 기반의 IPv4 주소 체계에서 IP주소가 부족하게 되면서 DHCP, NAT, IPv6가 나옴"
   ]
  },
  {
   "cell_type": "markdown",
   "metadata": {},
   "source": [
    "- DHCP:\n",
    "        IP주소를 자동으로 할당하기 위한 네트워크 관리 프로토콜\n",
    "        인터넷에 접속할 때마다 자동으로 IP주소 할당"
   ]
  },
  {
   "cell_type": "markdown",
   "metadata": {},
   "source": [
    "- NAT:\n",
    "        패킷의 IP 주소 정보를 수정하여 다른 주소로 매핑하는 방법\n",
    "        공인IP와 사설IP를 서로 변환\n",
    "![title](img/NAT.jpg)"
   ]
  }
 ],
 "metadata": {
  "kernelspec": {
   "display_name": "Python 3",
   "language": "python",
   "name": "python3"
  },
  "language_info": {
   "codemirror_mode": {
    "name": "ipython",
    "version": 3
   },
   "file_extension": ".py",
   "mimetype": "text/x-python",
   "name": "python",
   "nbconvert_exporter": "python",
   "pygments_lexer": "ipython3",
   "version": "3.8.5"
  }
 },
 "nbformat": 4,
 "nbformat_minor": 4
}
