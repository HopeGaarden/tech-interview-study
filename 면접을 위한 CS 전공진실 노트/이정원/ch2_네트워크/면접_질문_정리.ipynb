{
 "cells": [
  {
   "cell_type": "markdown",
   "metadata": {},
   "source": [
    "# 1. HTTP 프로토콜에 대해 설명해주세요"
   ]
  },
  {
   "cell_type": "markdown",
   "metadata": {},
   "source": [
    "- 데이터 교환에 사용되는 프로토콜입니다. 클라이언트/서버 모델을 따르며 상태 정보를 저장하지 않는 Stateless의 특성과 클라이언트가 요청을 주고 응답을 받은 뒤 연결을 끊는 Connectionless의 특성을 갖습니다."
   ]
  },
  {
   "cell_type": "markdown",
   "metadata": {},
   "source": [
    "# 2. HTTP와 HTTPS의 차이점은 무엇인가요"
   ]
  },
  {
   "cell_type": "markdown",
   "metadata": {},
   "source": [
    "- HTTP는 제 3자의 공격에 취약하여 암호화 SSL을 추가한 프로토콜이 HTTPS입니다\n",
    "- HTTP는 TCP통신을 직접 사용하지만 HTTPS는 SSL과 통신을 하고 SSL이 암호화 과정을 거쳐 TCP와 통신을 사용합니다"
   ]
  },
  {
   "cell_type": "markdown",
   "metadata": {},
   "source": [
    "# 3. 쿠키와 세션의 차이점에 대해 말해주세요"
   ]
  },
  {
   "cell_type": "markdown",
   "metadata": {},
   "source": [
    "- 쿠키와 세션모두 클라이언트의 인증에 사용되는데 쿠키는 클라이언트PC에 저장되는 상태 기록 정보이고 세션은 웹서버에 저장됩니다.\n",
    "- 세션은 일정시간 동안의 클라이언트의 요구를 상태로 취급하여 저장합니다"
   ]
  },
  {
   "cell_type": "markdown",
   "metadata": {},
   "source": [
    "# 4. www.naver.com에 접속할 때 생기는 과정에 대해 설명해주세요"
   ]
  },
  {
   "cell_type": "markdown",
   "metadata": {},
   "source": [
    "- 1. 클라이언트가 URL을 입력합니다.\n",
    "  2. DNS서버를 통해 도메인 네임을 IP주소로 받아옵니다.\n",
    "  3. IP주소를 통해 웹서버에 TCP 통신을 요청합니다.\n",
    "  4. TCP 통신의 3 way-handshake를 통해 연결 여부를 살핍니다.\n",
    "  5. 연결이 되면 클라이언트 요청에 따른 웹서버의 응답을 받습니다.\n",
    "  6. 웹서버의 응답을 웹페이지 데이터로 변환하여 브라우저에 보여줍니다."
   ]
  },
  {
   "cell_type": "markdown",
   "metadata": {},
   "source": [
    "# 5. TCP와 UDP의 차이를 설명해주세요"
   ]
  },
  {
   "cell_type": "markdown",
   "metadata": {},
   "source": [
    "- TCP는 3 way-handshake를 통해 신뢰성있는 통신을 합니다.\n",
    "- UDP는 3 way-handshake없이 데이터를 서버에 송신합니다.\n",
    "- TCP는 신뢰성있는 통신이 가능하지만 속도가 UDP에 비해 느리고 UDP는 신뢰성이 부족하지만 속도가 빠릅니다.\n",
    "- TCP는 메일이나 파일 교환 등에 사용하고 UDP는 실시간 스트리밍 등에 사용합니다."
   ]
  },
  {
   "cell_type": "markdown",
   "metadata": {},
   "source": [
    "# 6. 3 way-handshake를 얘기 해주셨는데, TCP통신은 종료시에도 3 way-handshake를 사용하나요?"
   ]
  },
  {
   "cell_type": "markdown",
   "metadata": {},
   "source": [
    "- 종료시에는 4 way-handshake를 사용합니다."
   ]
  },
  {
   "cell_type": "markdown",
   "metadata": {},
   "source": [
    "# 7. 3 way-handshake와 4 way-handshake를 설명해주세요"
   ]
  },
  {
   "cell_type": "markdown",
   "metadata": {},
   "source": [
    "- 3 way-handshake는 클라이언트와 서버가 3번의 데이터 교환을 통해 서로 연결이 잘 되었는지 확인하는 과정입니다.\n",
    "- 4 way-handshake는 통신 연결을 끊을 때 사용되는 4번의 데이터 교환 과정입니다.\n",
    "- 3 way-handshake: SYN -> ACK+SYN -> ACK\n",
    "- 4 way-handshake: FIN -> ACK -> FIN -> ACK"
   ]
  },
  {
   "cell_type": "markdown",
   "metadata": {},
   "source": [
    "# 8. OSI 7 layer와 각 계층에 대해 아는대로 설명해주세요"
   ]
  },
  {
   "cell_type": "markdown",
   "metadata": {},
   "source": [
    "- 7 Application 인터페이스 역할\n",
    "- 6 Presentation 데이터 형식 정의\n",
    "- 5 Session 통신을 위한 세션을 생성\n",
    "- 4 Transport 최종 수신 프로세스로 데이터 전송\n",
    "- 3 Network 패킷의 최적 경로 설정\n",
    "- 2 Datalink 데이터의 에러검출 흐름제어\n",
    "- 1 Physical 데이터를 전기신호로 변환"
   ]
  },
  {
   "cell_type": "markdown",
   "metadata": {},
   "source": [
    "# 9. HTTP Method와 각각 사용되는 경우를 설명해주세요"
   ]
  },
  {
   "cell_type": "markdown",
   "metadata": {},
   "source": [
    "- HTTP Method란 클라이언트가 서버에게 보내는 요청의 목적을 알려주는 수단입니다.\n",
    "- 1. GET 데이터 조회\n",
    "  2. POST 데이터 등록\n",
    "  3. PUT 데이터 변경\n",
    "  4. PATCH 데이터 일부 변경\n",
    "  5. DELETE 데이터 삭제"
   ]
  },
  {
   "cell_type": "markdown",
   "metadata": {},
   "source": [
    "# 10. GET과 POST의 차이를 설명해주세요"
   ]
  },
  {
   "cell_type": "markdown",
   "metadata": {},
   "source": [
    "- GET은 데이터 조회에 주로 사용되고 클라이언트에서 데이터를 보낼 경우 헤더에 넣어서 서버에 보냅니다.\n",
    "- POST는 데이터 추가 또는 수정에 주로 사용되고 바디에 넣어서 서버에 보냅니다.\n",
    "- GET은 데이터가 URL에 노출되기 때문에 보안의 위협이 있고 POST는 GET보다는 안전하지만 완전히 안전한건 아닙니다."
   ]
  },
  {
   "cell_type": "markdown",
   "metadata": {},
   "source": [
    "# 11. 세션 기반 인증과 토큰 기반 인증의 차이에 대해 얘기해주세요"
   ]
  },
  {
   "cell_type": "markdown",
   "metadata": {},
   "source": [
    "- 세션 기반 인증은 클라이언트의 요청 정보를 저장하는 Stateful 특성이 있습니다.\n",
    "- 토큰 기반 인증은 요청 정보를 저장하지 않는 Stateless 특성을 갖습니다."
   ]
  },
  {
   "cell_type": "markdown",
   "metadata": {},
   "source": [
    "# 12. JWT 토큰에 대해 설명해주세요"
   ]
  },
  {
   "cell_type": "markdown",
   "metadata": {},
   "source": [
    "- JSON 형식으로 되어 있는 Claim 기반의 웹 토큰 입니다.\n",
    "- 토큰 자체에 정보가 저장되어 있는 Self-Contained 방식입니다.\n",
    "- 헤더,내용,서명으로 구성되며 파트를 점(.)으로 구분합니다."
   ]
  },
  {
   "cell_type": "markdown",
   "metadata": {},
   "source": [
    "# 13. 대칭키 비대칭키 암호화 방식에 대해 설명해주세요"
   ]
  },
  {
   "cell_type": "markdown",
   "metadata": {},
   "source": [
    "- 대칭키 비대칭키 모두 양방향 통신에 사용되는 암호화 방식입니다.\n",
    "- 대칭키는 양 쪽 모두 동일한 키를 갖습니다. \n",
    "- 동일한 키를 갖기 때문에 누가 암호키를 가로채면 정보가 유출 될 수 있는 문제점이 있는데 이 점을 보완한게 비대칭키 입니다.\n",
    "- 비대칭키는 공개키와 개인키 서로 다른 키를 갖습니다."
   ]
  },
  {
   "cell_type": "markdown",
   "metadata": {},
   "source": [
    "# 14. Connection Timeout과 Read Timeout의 차이를 설명해주세요"
   ]
  },
  {
   "cell_type": "markdown",
   "metadata": {},
   "source": [
    "- 클라이언트가 서버에 요청하여 기다리는 시간이 일정 시간을 지나면 Connection Timeout이 생깁니다.\n",
    "- Read Timeout은 클라이언트의 요청을 받아 서버에서 로직을 행하는 시간이 오래걸려 일정 시간을 지나는 것을 말합니다.\n",
    "- Read Timeout은 서버는 로직을 처리하고 있기 때문에 요청에 성공했다고 생각하지만 클라이언트는 응답을 받지 못했기 때문에 오류로 인지해 서로 싱크가 안맞는 문제점이 생깁니다."
   ]
  },
  {
   "cell_type": "markdown",
   "metadata": {},
   "source": [
    "# 15. 공인IP와 사설IP의 차이를 설명해주세요"
   ]
  },
  {
   "cell_type": "markdown",
   "metadata": {},
   "source": [
    "- 공인IP는 ISP(Internet Service Provider)에서 지급되는 외부에 공개된 IP주소입니다.\n",
    "- 사설IP는 로컬네트워크 상에서만 존재하는 IP로 일반 가정이나 회사내 등에 할당됩니다.\n",
    "- IPv4의 주소부족으로 인해 서브넷팅된 IP로 라우터에 의해 IP를 할당 받습니다.\n",
    "- 사설IP를 지급받은 PC나 장치들은 라우터를 통해 공인IP로 변환되어 인터넷에 접속합니다."
   ]
  }
 ],
 "metadata": {
  "kernelspec": {
   "display_name": "Python 3",
   "language": "python",
   "name": "python3"
  },
  "language_info": {
   "codemirror_mode": {
    "name": "ipython",
    "version": 3
   },
   "file_extension": ".py",
   "mimetype": "text/x-python",
   "name": "python",
   "nbconvert_exporter": "python",
   "pygments_lexer": "ipython3",
   "version": "3.8.5"
  }
 },
 "nbformat": 4,
 "nbformat_minor": 4
}
